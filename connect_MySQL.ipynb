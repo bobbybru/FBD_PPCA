{
 "cells": [
  {
   "cell_type": "code",
   "execution_count": null,
   "id": "athletic-delhi",
   "metadata": {},
   "outputs": [],
   "source": [
    "import getpass\n",
    "import pandas as pd\n",
    "import mysql.connector"
   ]
  },
  {
   "cell_type": "code",
   "execution_count": null,
   "id": "strong-graphic",
   "metadata": {
    "scrolled": false
   },
   "outputs": [],
   "source": [
    "data = pd.read_csv('https://s3-sa-east-1.amazonaws.com/ckan.saude.gov.br/SRAG/2021/INFLUD21-08-03-2021.csv', sep=';', index_col=False)"
   ]
  },
  {
   "cell_type": "code",
   "execution_count": null,
   "id": "patient-development",
   "metadata": {},
   "outputs": [],
   "source": [
    "pword=getpass.getpass()"
   ]
  },
  {
   "cell_type": "code",
   "execution_count": null,
   "id": "spanish-width",
   "metadata": {},
   "outputs": [],
   "source": [
    "cnx = mysql.connector.connect(user='root', password=pword,\n",
    "                              host='127.0.0.1',\n",
    "                              database='srag')\n",
    "cursor = cnx.cursor()"
   ]
  },
  {
   "cell_type": "code",
   "execution_count": null,
   "id": "scientific-producer",
   "metadata": {
    "scrolled": true
   },
   "outputs": [],
   "source": [
    "# for i in data.columns:\n",
    "#     print(i)"
   ]
  },
  {
   "cell_type": "code",
   "execution_count": null,
   "id": "formal-somalia",
   "metadata": {},
   "outputs": [],
   "source": [
    "#CARGA TABELA OCUPACAÇÃO\n",
    "ocupa = data[['ID_PAIS', 'CO_PAIS']]\n",
    "ocupa2 = ocupa.reset_index(drop=True)\n",
    "df_ocupa = ocupa2.drop_duplicates()\n",
    "df_ocupa=df_ocupa.reset_index(drop=True)\n",
    "for row in df_ocupa.itertuples():\n",
    "    sql = \"INSERT INTO pais (codPais, descricao) VALUES (%s, %s)\"\n",
    "    val = (int(row.CO_PAIS), str(row.ID_PAIS))\n",
    "    cursor.execute(sql, val)\n",
    "cnx.commit()\n",
    "df_opr= pd.read_sql(\"SELECT * from pais\", cnx)\n",
    "df_opr"
   ]
  },
  {
   "cell_type": "code",
   "execution_count": null,
   "id": "manufactured-eagle",
   "metadata": {},
   "outputs": [],
   "source": [
    "#CARGA TABELA PESSOA\n",
    "pessoa = data[['CS_SEXO', 'CS_GESTANT','CS_RACA', 'CS_ESCOL_N', 'PAC_COCBO', 'CO_MUN_RES']]\n",
    "df_pessoa = pessoa.astype(object).where(pd.notnull(pessoa), None)\n",
    "\n",
    "for row in df_pessoa.itertuples():\n",
    "    sql = \"INSERT INTO Pessoa (idCpf, sexo, gestante, raca, escolaridade, ocupacao, municipio_residencia) VALUES (%s, %s, %s, %s, %s, %s, %s)\"\n",
    "    val = ((row.Index), (row.CS_SEXO), (row.CS_GESTANT), (row.CS_RACA), (row.CS_ESCOL_N), (row.PAC_COCBO), (row.CO_MUN_RES))\n",
    "    try:\n",
    "        cursor.execute(sql, val)\n",
    "    except:\n",
    "        pass\n",
    "cnx.commit()"
   ]
  },
  {
   "cell_type": "code",
   "execution_count": null,
   "id": "pleasant-activity",
   "metadata": {},
   "outputs": [],
   "source": [
    "#CARGA TABELA VACINA\n",
    "vacina = data[['VACINA', 'DT_UT_DOSE']]\n",
    "df_vacina =vacina.astype(object).where(pd.notnull(vacina), None)\n",
    "for row in df_vacina.itertuples():\n",
    "    date = None\n",
    "    try:\n",
    "        from datetime import datetime\n",
    "        date = datetime.strptime(row.DT_UT_DOSE, '%d/%m/%Y').date()\n",
    "    except:\n",
    "        pass\n",
    "    \n",
    "    sql = \"INSERT INTO vacina (vacinado, data, Pessoa_idCpf) VALUES (%s, %s, %s)\"\n",
    "    val = ((row.VACINA), (date), (row.Index))\n",
    "    try:\n",
    "        cursor.execute(sql, val)\n",
    "    except:\n",
    "        pass\n",
    "cnx.commit()"
   ]
  },
  {
   "cell_type": "code",
   "execution_count": null,
   "id": "brutal-chuck",
   "metadata": {},
   "outputs": [],
   "source": [
    "df_vac= pd.read_sql(\"SELECT * from vacina\", cnx)\n",
    "df_vac"
   ]
  },
  {
   "cell_type": "code",
   "execution_count": null,
   "id": "superior-expert",
   "metadata": {},
   "outputs": [],
   "source": []
  }
 ],
 "metadata": {
  "kernelspec": {
   "display_name": "Python 3",
   "language": "python",
   "name": "python3"
  },
  "language_info": {
   "codemirror_mode": {
    "name": "ipython",
    "version": 3
   },
   "file_extension": ".py",
   "mimetype": "text/x-python",
   "name": "python",
   "nbconvert_exporter": "python",
   "pygments_lexer": "ipython3",
   "version": "3.7.3"
  }
 },
 "nbformat": 4,
 "nbformat_minor": 5
}
